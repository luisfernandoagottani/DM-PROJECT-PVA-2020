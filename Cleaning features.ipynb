{
 "cells": [
  {
   "cell_type": "code",
   "execution_count": 1,
   "metadata": {},
   "outputs": [],
   "source": [
    "import pandas as pd\n",
    "import numpy as np\n",
    "import scipy\n",
    "import sklearn\n",
    "import os\n",
    "import matplotlib.pyplot as plt\n",
    "import seaborn as sns\n",
    "from sklearn.model_selection import train_test_split ##split the data\n",
    "from sklearn.feature_selection import RFE ##Test Features and select the best ones\n",
    "from sklearn.linear_model import LogisticRegression ##Test Features and select the best ones\n",
    "import statsmodels.api as sm ##Stats\n",
    "from sklearn.metrics import confusion_matrix ##F1 score\n",
    "from sklearn import preprocessing ##Normalize feature\n",
    "import missingno as msno \n",
    "import datetime as dt\n",
    "from itertools import product\n",
    "from pandas_profiling import ProfileReport\n",
    "from datetime import datetime\n",
    "import calendar\n",
    "from sklearn.impute import KNNImputer\n",
    "from sklearn.preprocessing import OneHotEncoder"
   ]
  },
  {
   "cell_type": "code",
   "execution_count": 2,
   "metadata": {},
   "outputs": [],
   "source": [
    "## Reading CSV\n",
    "donors = pd.read_csv(\"donors.csv\", low_memory= False)"
   ]
  },
  {
   "cell_type": "code",
   "execution_count": 3,
   "metadata": {},
   "outputs": [],
   "source": [
    "donors_id = donors.loc[:,'ODATEDW':'PEPSTRFL']"
   ]
  },
  {
   "cell_type": "code",
   "execution_count": 4,
   "metadata": {},
   "outputs": [],
   "source": [
    "nan_count = donors_id.isnull().sum().sort_values(ascending = False)"
   ]
  },
  {
   "cell_type": "code",
   "execution_count": 5,
   "metadata": {},
   "outputs": [
    {
     "data": {
      "text/plain": [
       "NUMCHLD     83026\n",
       "MBCOLECT    52914\n",
       "PUBDOITY    52854\n",
       "PUBGARDN    52854\n",
       "PUBHLTH     52854\n",
       "MAGMALE     52854\n",
       "PUBNEWFN    52854\n",
       "PUBPHOTO    52854\n",
       "PUBOPP      52854\n",
       "MAGFEM      52854\n",
       "MAGFAML     52854\n",
       "MBBOOKS     52854\n",
       "MBGARDEN    52854\n",
       "MBCRAFT     52854\n",
       "PUBCULIN    52854\n",
       "WEALTH1     44732\n",
       "WEALTH2     43823\n",
       "DOB         23883\n",
       "INCOME      21286\n",
       "dtype: int64"
      ]
     },
     "execution_count": 5,
     "metadata": {},
     "output_type": "execute_result"
    }
   ],
   "source": [
    "nan_count = nan_count[nan_count != 0]\n",
    "nan_count"
   ]
  },
  {
   "cell_type": "code",
   "execution_count": 6,
   "metadata": {},
   "outputs": [
    {
     "data": {
      "text/plain": [
       "Index(['NUMCHLD', 'MBCOLECT', 'PUBDOITY', 'PUBGARDN', 'PUBHLTH', 'MAGMALE',\n",
       "       'PUBNEWFN', 'PUBPHOTO', 'PUBOPP', 'MAGFEM', 'MAGFAML', 'MBBOOKS',\n",
       "       'MBGARDEN', 'MBCRAFT', 'PUBCULIN', 'WEALTH1', 'WEALTH2', 'DOB',\n",
       "       'INCOME'],\n",
       "      dtype='object')"
      ]
     },
     "execution_count": 6,
     "metadata": {},
     "output_type": "execute_result"
    }
   ],
   "source": [
    "nan_count.index"
   ]
  },
  {
   "cell_type": "code",
   "execution_count": 7,
   "metadata": {},
   "outputs": [],
   "source": [
    "#Delete Columns with more than 50% of Nan\n",
    "donors_id_r1 = donors_id.drop(columns = \\\n",
    "                              ['MBCOLECT','PUBDOITY', 'PUBGARDN', 'PUBHLTH', 'MAGMALE','PUBNEWFN', \n",
    "                               'PUBPHOTO', 'PUBOPP', 'MAGFEM', 'MAGFAML', 'MBBOOKS','MBGARDEN', \n",
    "                               'MBCRAFT', 'PUBCULIN'])"
   ]
  },
  {
   "cell_type": "code",
   "execution_count": 8,
   "metadata": {},
   "outputs": [],
   "source": [
    "nan_count_r1 = donors_id_r1.isnull().sum().sort_values(ascending = False)"
   ]
  },
  {
   "cell_type": "code",
   "execution_count": 9,
   "metadata": {},
   "outputs": [
    {
     "data": {
      "text/plain": [
       "NUMCHLD    83026\n",
       "WEALTH1    44732\n",
       "WEALTH2    43823\n",
       "DOB        23883\n",
       "INCOME     21286\n",
       "dtype: int64"
      ]
     },
     "execution_count": 9,
     "metadata": {},
     "output_type": "execute_result"
    }
   ],
   "source": [
    "nan_count_r1 = nan_count_r1[nan_count_r1 != 0]\n",
    "nan_count_r1"
   ]
  },
  {
   "cell_type": "code",
   "execution_count": 10,
   "metadata": {},
   "outputs": [],
   "source": [
    "#Correting the variables to datetime types.\n",
    "donors_id_r1['ODATEDW'] = donors_id_r1['ODATEDW'].map(lambda x: datetime.strptime(x, '%Y-%m-%d') if pd.notnull(x) else x)\n",
    "donors_id_r1['DOB'] = donors_id_r1['DOB'].map(lambda x: datetime.strptime(x, '%Y-%m-%d') if pd.notnull(x) else x)"
   ]
  },
  {
   "cell_type": "code",
   "execution_count": 11,
   "metadata": {},
   "outputs": [],
   "source": [
    "#Create Variable AGE\n",
    "donors_id_r1['AGE'] = datetime.today().year - donors_id_r1['DOB'].dt.year"
   ]
  },
  {
   "cell_type": "markdown",
   "metadata": {},
   "source": [
    "# Separate the variables\n",
    "# Financial information\n",
    "- INCOME                      HOUSEHOLD INCOME -> **'Ordinary''KNN IMPUTER'**\n",
    "- WEALTH1                     Wealth Rating -> **'Ordinary' 'PCA/KNN IMPUTER'**    \n",
    "- WEALTH2                     Wealth Rating -> **'Ordinary' 'PCA/KNN IMPUTER'**\n",
    "# Geographic information\n",
    "- STATE                       State abbreviation (a nominal/symbolic field) -> **'Discretizing'**\n",
    "- ZIP                         Zipcode (a nominal/symbolic field) -> **'Delete'**\n",
    "- MAILCODE                    Mail Code -> **'Binary'**\n",
    "- PVASTATE                    EPVA State or PVA State -> **'Binary'**\n",
    "- DOMAIN                      DOMAIN/Cluster code. A nominal or symbolic field. -> **'Separate in 2'**\n",
    "- GEOCODE                     Geo Cluster Code indicating the level geography at which -> **' Ordinary'**\n",
    "# Donation History\n",
    "- OSOURCE                     Origin Source -> **'DELETE'**\n",
    "- MDMAUD                      The Major Donor Matrix code -> **'Category'**\n",
    "- MAJOR                       Major Donor Flag -> **'Binary'**\n",
    "- PEPSTRFL                    Indicates PEP Star RFA Status -> **'Binary'**\n",
    "- HIT                         MOR Flag HIT (Mail Order Response) -> **'Metric'**\n",
    "# ID information\n",
    "- ODATEDW                     Origin Date. Date of donors first gift -> **'DELETE'**\n",
    "- TCODE                       Donor title code -> 'DELETE'\n",
    "- DOB                         Date of birth (YYMM, Year/Month format.) -> **'Create Age' and 'DELETE'**\n",
    "- CHILD03                     Presence of Children age 0-3 -> **'Fill Nan with 0'**\n",
    "- CHILD07                     Presence of Childern age 4-7 -> **'Fill Nan with 0'**\n",
    "- CHILD12                     Presence of Childern age 8-12 -> **'Fill Nan with 0'**\n",
    "- CHILD18                     Presence of Childern age 13-18 -> **'Fill N-> an with 0'**\n",
    "- NUMCHLD                     NUMBER OF CHILDREN -> **'DELETE'**\n",
    "- GENDER                      Gender -> **'Fill Nan with U'**\n",
    "- DATASRCE                    Source of Overlay Data -> **'DELETE'**\n",
    "- MALEMILI                    % Males active in the Military -> **'Metric'**\n",
    "- MALEVET                     % Males Veterans -> **'Metric'**\n",
    "- VIETVETS                    % Vietnam Vets -> **'Metric'**\n",
    "- WWIIVETS                    % WWII Vets -> **'Metric'**\n",
    "- LOCALGOV                    % Employed by Local Gov -> **'Metric'**\n",
    "- STATEGOV                    % Employed by State Gov -> **'Metric'**\n",
    "- FEDGOV                      % Employed by Fed Gov -> **'Metric'**\n",
    "- COLLECT1                    COLLECTABLE (Y/N) -> **'Binary'**\n",
    "- VETERANS                    VETERANS (Y/N) -> **'Binary'**\n",
    "- BIBLE                       BIBLE READING (Y/N) -> **'Binary'**\n",
    "- CATLG                       SHOP BY CATALOG (Y/N) -> **'Binary'**\n",
    "- HOMEE                       WORK FROM HOME (Y/N) -> **'Binary'**\n",
    "- PETS                        HOUSEHOLD PETS (Y/N) -> **'Binary'**\n",
    "- CDPLAY                      CD PLAYER OWNERS (Y/N) -> **'Binary'**\n",
    "- STEREO                      STEREO/RECORDS/TAPES/CD (Y/N) -> **'Binary'**\n",
    "- PCOWNERS                    HOME PC OWNERS/USERS -> **'Binary'**\n",
    "- PHOTO                       PHOTOGRAPHY (Y/N) -> **'Binary'**\n",
    "- CRAFTS                      CRAFTS (Y/N) -> **'Binary'**\n",
    "- FISHER                      FISHING (Y/N) -> **'Binary'**\n",
    "- GARDENIN                    GARDENING (Y/N) -> **'Binary'**\n",
    "- BOATS                       POWER BOATING (Y/N) -> **'Binary'**\n",
    "- WALKER                      WALK FOR HEALTH (Y/N) -> **'Binary'**\n",
    "- KIDSTUFF                    BUYS CHILDRENS PRODUCTS (Y/N) -> **'Binary'**\n",
    "- CARDS                       STATIONARY/CARDS BUYER (Y/N) -> **'Binary'**\n",
    "- PLATES                      PLATE COLLECTOR (Y/N) -> **'Binary'**\n",
    "- LIFESRC                     LIFE STYLE DATA SOURCE/ SAME AS DATASRCE -> **'DELETE'**\n",
    "- HOMEOWNR                    Home Owner Flag -> **'Ordinary'**\n",
    "\n",
    "# Data permission for ID information\n",
    "- NOEXCH                      Do Not Exchange Flag (For list rental) -> **'Binary, need to fix the labels'**\n",
    "- RECINHSE                    In House File Flag -> **'Binary'**\n",
    "- RECP3                       P3 File Flag -> **'Binary'**\n",
    "- RECPGVG                     Planned Giving File Flag -> **'Binary'**\n",
    "- RECSWEEP                    Sweepstakes file fla g -> **'Binary'**\n",
    "# Unknown \n",
    "- SOLP3                       SOLICIT LIMITATION CODE P3 -> **'Ordinary'**\n",
    "- SOLIH                       SOLICITATION LIMIT CODE IN HOUSE -> **'Ordinary'**"
   ]
  },
  {
   "cell_type": "code",
   "execution_count": 12,
   "metadata": {},
   "outputs": [],
   "source": [
    "#Drop Columns ZIP ODATEDW TCODE DOB DATASRCE LIFESRC\n",
    "donors_id_r1 = donors_id_r1.drop(columns = ['STATE', 'OSOURCE', 'ZIP', 'NUMCHLD', 'ODATEDW', 'TCODE', 'DOB', 'DATASRCE', 'LIFESRC'])"
   ]
  },
  {
   "cell_type": "code",
   "execution_count": 13,
   "metadata": {},
   "outputs": [
    {
     "name": "stderr",
     "output_type": "stream",
     "text": [
      "C:\\Users\\adria\\Anaconda3\\lib\\site-packages\\ipykernel_launcher.py:2: SettingWithCopyWarning: \n",
      "A value is trying to be set on a copy of a slice from a DataFrame\n",
      "\n",
      "See the caveats in the documentation: http://pandas.pydata.org/pandas-docs/stable/indexing.html#indexing-view-versus-copy\n",
      "  \n"
     ]
    }
   ],
   "source": [
    "#Fill ' ' values to Nan to fill with KNNImputer\n",
    "donors_id_r1['DOMAIN'][donors_id_r1['DOMAIN'] == ' '] = None"
   ]
  },
  {
   "cell_type": "code",
   "execution_count": 14,
   "metadata": {},
   "outputs": [],
   "source": [
    "#Split Variable DOMAIN wealth and type of neighbor.\n",
    "donors_id_r1['DOMAIN_LVL'] = donors_id_r1['DOMAIN'].str.split('', expand = True)[1]\n",
    "donors_id_r1['DOMAIN_ECO'] = donors_id_r1['DOMAIN'].str.split('', expand = True)[2]"
   ]
  },
  {
   "cell_type": "code",
   "execution_count": 15,
   "metadata": {},
   "outputs": [],
   "source": [
    "#One hot encoder, using dummy_na = True to not descart the missing values\n",
    "DOMAIN_LVL_OHE = pd.get_dummies(donors_id_r1['DOMAIN_LVL'], dummy_na = True)"
   ]
  },
  {
   "cell_type": "code",
   "execution_count": 16,
   "metadata": {},
   "outputs": [],
   "source": [
    "#Binary Feature using drop_first to have just one column.\n",
    "MAJOR_OHE = pd.get_dummies(donors_id_r1['MAJOR'], drop_first = True)"
   ]
  },
  {
   "cell_type": "code",
   "execution_count": 17,
   "metadata": {},
   "outputs": [],
   "source": [
    "#Binary Feature using drop_first to have just one column.\n",
    "PEPSTRFL_OHE = pd.get_dummies(donors_id_r1['PEPSTRFL'], drop_first = True)"
   ]
  },
  {
   "cell_type": "code",
   "execution_count": 18,
   "metadata": {},
   "outputs": [],
   "source": [
    "#Binary Feature using drop_first to have just one column.\n",
    "ID_binary = pd.get_dummies(donors_id_r1.loc[:,'COLLECT1':'PLATES'], drop_first = True)"
   ]
  },
  {
   "cell_type": "code",
   "execution_count": 19,
   "metadata": {
    "scrolled": false
   },
   "outputs": [
    {
     "data": {
      "text/plain": [
       "WEALTH1       44732\n",
       "WEALTH2       43823\n",
       "AGE           23883\n",
       "INCOME        21286\n",
       "DOMAIN_ECO     2316\n",
       "DOMAIN         2316\n",
       "DOMAIN_LVL     2316\n",
       "dtype: int64"
      ]
     },
     "execution_count": 19,
     "metadata": {},
     "output_type": "execute_result"
    }
   ],
   "source": [
    "nan_count_r1 = donors_id_r1.isnull().sum().sort_values(ascending = False)\n",
    "nan_count_r1 = nan_count_r1[nan_count_r1 != 0]\n",
    "nan_count_r1"
   ]
  },
  {
   "cell_type": "code",
   "execution_count": 20,
   "metadata": {},
   "outputs": [],
   "source": [
    "#Transform LASTDATE to create Recency\n",
    "donors['LASTDATE'] = donors['LASTDATE'].map(lambda x: datetime.strptime(x, '%Y-%m-%d'))"
   ]
  },
  {
   "cell_type": "code",
   "execution_count": 21,
   "metadata": {},
   "outputs": [],
   "source": [
    "#Create Recency\n",
    "#Last promotion date\n",
    "lastpromotiondate = datetime.strptime('2017-06-01', '%Y-%m-%d')\n",
    "lastpromotiondate.year\n",
    "#Date associated with the most recent gift\n",
    "donors['RECENCY'] = (lastpromotiondate.year - donors['LASTDATE']\n",
    "                     .dt.year)*12 + (lastpromotiondate.month - donors['LASTDATE']\n",
    "                                                                              .dt.month)"
   ]
  },
  {
   "cell_type": "code",
   "execution_count": 22,
   "metadata": {},
   "outputs": [],
   "source": [
    "#Selected Variables to fill Missing Values:\n",
    "fill_na_id = pd.concat([donors_id_r1[['AGE', 'WEALTH1', 'WEALTH2', 'INCOME','DOMAIN_ECO']],\n",
    "                      donors[['RECENCY', 'NGIFTALL', 'AVGGIFT']],\n",
    "                      DOMAIN_LVL_OHE,\n",
    "                      MAJOR_OHE,\n",
    "                      PEPSTRFL_OHE,\n",
    "                      ID_binary], axis = 1)"
   ]
  },
  {
   "cell_type": "code",
   "execution_count": 23,
   "metadata": {},
   "outputs": [],
   "source": [
    "#Using KNNImputer\n",
    "imputer = KNNImputer(n_neighbors=5, weights=\"uniform\")\n",
    "fill_na_id_imputer = imputer.fit_transform(fill_na_id)"
   ]
  },
  {
   "cell_type": "code",
   "execution_count": 24,
   "metadata": {},
   "outputs": [
    {
     "ename": "KeyError",
     "evalue": "nan",
     "output_type": "error",
     "traceback": [
      "\u001b[1;31m---------------------------------------------------------------------------\u001b[0m",
      "\u001b[1;31mKeyError\u001b[0m                                  Traceback (most recent call last)",
      "\u001b[1;32m~\\Anaconda3\\lib\\site-packages\\pandas\\core\\indexes\\base.py\u001b[0m in \u001b[0;36mget_loc\u001b[1;34m(self, key, method, tolerance)\u001b[0m\n\u001b[0;32m   2656\u001b[0m             \u001b[1;32mtry\u001b[0m\u001b[1;33m:\u001b[0m\u001b[1;33m\u001b[0m\u001b[1;33m\u001b[0m\u001b[0m\n\u001b[1;32m-> 2657\u001b[1;33m                 \u001b[1;32mreturn\u001b[0m \u001b[0mself\u001b[0m\u001b[1;33m.\u001b[0m\u001b[0m_engine\u001b[0m\u001b[1;33m.\u001b[0m\u001b[0mget_loc\u001b[0m\u001b[1;33m(\u001b[0m\u001b[0mkey\u001b[0m\u001b[1;33m)\u001b[0m\u001b[1;33m\u001b[0m\u001b[1;33m\u001b[0m\u001b[0m\n\u001b[0m\u001b[0;32m   2658\u001b[0m             \u001b[1;32mexcept\u001b[0m \u001b[0mKeyError\u001b[0m\u001b[1;33m:\u001b[0m\u001b[1;33m\u001b[0m\u001b[1;33m\u001b[0m\u001b[0m\n",
      "\u001b[1;32mpandas/_libs/index.pyx\u001b[0m in \u001b[0;36mpandas._libs.index.IndexEngine.get_loc\u001b[1;34m()\u001b[0m\n",
      "\u001b[1;32mpandas/_libs/index.pyx\u001b[0m in \u001b[0;36mpandas._libs.index.IndexEngine.get_loc\u001b[1;34m()\u001b[0m\n",
      "\u001b[1;32mpandas/_libs/index.pyx\u001b[0m in \u001b[0;36mpandas._libs.index.IndexEngine._get_loc_duplicates\u001b[1;34m()\u001b[0m\n",
      "\u001b[1;32mpandas/_libs/index.pyx\u001b[0m in \u001b[0;36mpandas._libs.index.IndexEngine._maybe_get_bool_indexer\u001b[1;34m()\u001b[0m\n",
      "\u001b[1;31mKeyError\u001b[0m: nan",
      "\nDuring handling of the above exception, another exception occurred:\n",
      "\u001b[1;31mKeyError\u001b[0m                                  Traceback (most recent call last)",
      "\u001b[1;32m<ipython-input-24-3f8e2b800e3a>\u001b[0m in \u001b[0;36m<module>\u001b[1;34m\u001b[0m\n\u001b[1;32m----> 1\u001b[1;33m \u001b[0mfill_na_id\u001b[0m\u001b[1;33m[\u001b[0m\u001b[1;33m:\u001b[0m\u001b[1;33m]\u001b[0m \u001b[1;33m=\u001b[0m \u001b[0mfill_na_id_imputer\u001b[0m\u001b[1;33m\u001b[0m\u001b[1;33m\u001b[0m\u001b[0m\n\u001b[0m",
      "\u001b[1;32m~\\Anaconda3\\lib\\site-packages\\pandas\\core\\frame.py\u001b[0m in \u001b[0;36m__setitem__\u001b[1;34m(self, key, value)\u001b[0m\n\u001b[0;32m   3360\u001b[0m         \u001b[0mindexer\u001b[0m \u001b[1;33m=\u001b[0m \u001b[0mconvert_to_index_sliceable\u001b[0m\u001b[1;33m(\u001b[0m\u001b[0mself\u001b[0m\u001b[1;33m,\u001b[0m \u001b[0mkey\u001b[0m\u001b[1;33m)\u001b[0m\u001b[1;33m\u001b[0m\u001b[1;33m\u001b[0m\u001b[0m\n\u001b[0;32m   3361\u001b[0m         \u001b[1;32mif\u001b[0m \u001b[0mindexer\u001b[0m \u001b[1;32mis\u001b[0m \u001b[1;32mnot\u001b[0m \u001b[1;32mNone\u001b[0m\u001b[1;33m:\u001b[0m\u001b[1;33m\u001b[0m\u001b[1;33m\u001b[0m\u001b[0m\n\u001b[1;32m-> 3362\u001b[1;33m             \u001b[1;32mreturn\u001b[0m \u001b[0mself\u001b[0m\u001b[1;33m.\u001b[0m\u001b[0m_setitem_slice\u001b[0m\u001b[1;33m(\u001b[0m\u001b[0mindexer\u001b[0m\u001b[1;33m,\u001b[0m \u001b[0mvalue\u001b[0m\u001b[1;33m)\u001b[0m\u001b[1;33m\u001b[0m\u001b[1;33m\u001b[0m\u001b[0m\n\u001b[0m\u001b[0;32m   3363\u001b[0m \u001b[1;33m\u001b[0m\u001b[0m\n\u001b[0;32m   3364\u001b[0m         \u001b[1;32mif\u001b[0m \u001b[0misinstance\u001b[0m\u001b[1;33m(\u001b[0m\u001b[0mkey\u001b[0m\u001b[1;33m,\u001b[0m \u001b[0mDataFrame\u001b[0m\u001b[1;33m)\u001b[0m \u001b[1;32mor\u001b[0m \u001b[0mgetattr\u001b[0m\u001b[1;33m(\u001b[0m\u001b[0mkey\u001b[0m\u001b[1;33m,\u001b[0m \u001b[1;34m'ndim'\u001b[0m\u001b[1;33m,\u001b[0m \u001b[1;32mNone\u001b[0m\u001b[1;33m)\u001b[0m \u001b[1;33m==\u001b[0m \u001b[1;36m2\u001b[0m\u001b[1;33m:\u001b[0m\u001b[1;33m\u001b[0m\u001b[1;33m\u001b[0m\u001b[0m\n",
      "\u001b[1;32m~\\Anaconda3\\lib\\site-packages\\pandas\\core\\frame.py\u001b[0m in \u001b[0;36m_setitem_slice\u001b[1;34m(self, key, value)\u001b[0m\n\u001b[0;32m   3372\u001b[0m     \u001b[1;32mdef\u001b[0m \u001b[0m_setitem_slice\u001b[0m\u001b[1;33m(\u001b[0m\u001b[0mself\u001b[0m\u001b[1;33m,\u001b[0m \u001b[0mkey\u001b[0m\u001b[1;33m,\u001b[0m \u001b[0mvalue\u001b[0m\u001b[1;33m)\u001b[0m\u001b[1;33m:\u001b[0m\u001b[1;33m\u001b[0m\u001b[1;33m\u001b[0m\u001b[0m\n\u001b[0;32m   3373\u001b[0m         \u001b[0mself\u001b[0m\u001b[1;33m.\u001b[0m\u001b[0m_check_setitem_copy\u001b[0m\u001b[1;33m(\u001b[0m\u001b[1;33m)\u001b[0m\u001b[1;33m\u001b[0m\u001b[1;33m\u001b[0m\u001b[0m\n\u001b[1;32m-> 3374\u001b[1;33m         \u001b[0mself\u001b[0m\u001b[1;33m.\u001b[0m\u001b[0mloc\u001b[0m\u001b[1;33m.\u001b[0m\u001b[0m_setitem_with_indexer\u001b[0m\u001b[1;33m(\u001b[0m\u001b[0mkey\u001b[0m\u001b[1;33m,\u001b[0m \u001b[0mvalue\u001b[0m\u001b[1;33m)\u001b[0m\u001b[1;33m\u001b[0m\u001b[1;33m\u001b[0m\u001b[0m\n\u001b[0m\u001b[0;32m   3375\u001b[0m \u001b[1;33m\u001b[0m\u001b[0m\n\u001b[0;32m   3376\u001b[0m     \u001b[1;32mdef\u001b[0m \u001b[0m_setitem_array\u001b[0m\u001b[1;33m(\u001b[0m\u001b[0mself\u001b[0m\u001b[1;33m,\u001b[0m \u001b[0mkey\u001b[0m\u001b[1;33m,\u001b[0m \u001b[0mvalue\u001b[0m\u001b[1;33m)\u001b[0m\u001b[1;33m:\u001b[0m\u001b[1;33m\u001b[0m\u001b[1;33m\u001b[0m\u001b[0m\n",
      "\u001b[1;32m~\\Anaconda3\\lib\\site-packages\\pandas\\core\\indexing.py\u001b[0m in \u001b[0;36m_setitem_with_indexer\u001b[1;34m(self, indexer, value)\u001b[0m\n\u001b[0;32m    599\u001b[0m \u001b[1;33m\u001b[0m\u001b[0m\n\u001b[0;32m    600\u001b[0m                         \u001b[1;31m# setting with a list, recoerces\u001b[0m\u001b[1;33m\u001b[0m\u001b[1;33m\u001b[0m\u001b[1;33m\u001b[0m\u001b[0m\n\u001b[1;32m--> 601\u001b[1;33m                         \u001b[0msetter\u001b[0m\u001b[1;33m(\u001b[0m\u001b[0mitem\u001b[0m\u001b[1;33m,\u001b[0m \u001b[0mvalue\u001b[0m\u001b[1;33m[\u001b[0m\u001b[1;33m:\u001b[0m\u001b[1;33m,\u001b[0m \u001b[0mi\u001b[0m\u001b[1;33m]\u001b[0m\u001b[1;33m.\u001b[0m\u001b[0mtolist\u001b[0m\u001b[1;33m(\u001b[0m\u001b[1;33m)\u001b[0m\u001b[1;33m)\u001b[0m\u001b[1;33m\u001b[0m\u001b[1;33m\u001b[0m\u001b[0m\n\u001b[0m\u001b[0;32m    602\u001b[0m \u001b[1;33m\u001b[0m\u001b[0m\n\u001b[0;32m    603\u001b[0m                 \u001b[1;31m# we have an equal len list/ndarray\u001b[0m\u001b[1;33m\u001b[0m\u001b[1;33m\u001b[0m\u001b[1;33m\u001b[0m\u001b[0m\n",
      "\u001b[1;32m~\\Anaconda3\\lib\\site-packages\\pandas\\core\\indexing.py\u001b[0m in \u001b[0;36msetter\u001b[1;34m(item, v)\u001b[0m\n\u001b[0;32m    520\u001b[0m \u001b[1;33m\u001b[0m\u001b[0m\n\u001b[0;32m    521\u001b[0m             \u001b[1;32mdef\u001b[0m \u001b[0msetter\u001b[0m\u001b[1;33m(\u001b[0m\u001b[0mitem\u001b[0m\u001b[1;33m,\u001b[0m \u001b[0mv\u001b[0m\u001b[1;33m)\u001b[0m\u001b[1;33m:\u001b[0m\u001b[1;33m\u001b[0m\u001b[1;33m\u001b[0m\u001b[0m\n\u001b[1;32m--> 522\u001b[1;33m                 \u001b[0ms\u001b[0m \u001b[1;33m=\u001b[0m \u001b[0mself\u001b[0m\u001b[1;33m.\u001b[0m\u001b[0mobj\u001b[0m\u001b[1;33m[\u001b[0m\u001b[0mitem\u001b[0m\u001b[1;33m]\u001b[0m\u001b[1;33m\u001b[0m\u001b[1;33m\u001b[0m\u001b[0m\n\u001b[0m\u001b[0;32m    523\u001b[0m                 \u001b[0mpi\u001b[0m \u001b[1;33m=\u001b[0m \u001b[0mplane_indexer\u001b[0m\u001b[1;33m[\u001b[0m\u001b[1;36m0\u001b[0m\u001b[1;33m]\u001b[0m \u001b[1;32mif\u001b[0m \u001b[0mlplane_indexer\u001b[0m \u001b[1;33m==\u001b[0m \u001b[1;36m1\u001b[0m \u001b[1;32melse\u001b[0m \u001b[0mplane_indexer\u001b[0m\u001b[1;33m\u001b[0m\u001b[1;33m\u001b[0m\u001b[0m\n\u001b[0;32m    524\u001b[0m \u001b[1;33m\u001b[0m\u001b[0m\n",
      "\u001b[1;32m~\\Anaconda3\\lib\\site-packages\\pandas\\core\\frame.py\u001b[0m in \u001b[0;36m__getitem__\u001b[1;34m(self, key)\u001b[0m\n\u001b[0;32m   2925\u001b[0m             \u001b[1;32mif\u001b[0m \u001b[0mself\u001b[0m\u001b[1;33m.\u001b[0m\u001b[0mcolumns\u001b[0m\u001b[1;33m.\u001b[0m\u001b[0mnlevels\u001b[0m \u001b[1;33m>\u001b[0m \u001b[1;36m1\u001b[0m\u001b[1;33m:\u001b[0m\u001b[1;33m\u001b[0m\u001b[1;33m\u001b[0m\u001b[0m\n\u001b[0;32m   2926\u001b[0m                 \u001b[1;32mreturn\u001b[0m \u001b[0mself\u001b[0m\u001b[1;33m.\u001b[0m\u001b[0m_getitem_multilevel\u001b[0m\u001b[1;33m(\u001b[0m\u001b[0mkey\u001b[0m\u001b[1;33m)\u001b[0m\u001b[1;33m\u001b[0m\u001b[1;33m\u001b[0m\u001b[0m\n\u001b[1;32m-> 2927\u001b[1;33m             \u001b[0mindexer\u001b[0m \u001b[1;33m=\u001b[0m \u001b[0mself\u001b[0m\u001b[1;33m.\u001b[0m\u001b[0mcolumns\u001b[0m\u001b[1;33m.\u001b[0m\u001b[0mget_loc\u001b[0m\u001b[1;33m(\u001b[0m\u001b[0mkey\u001b[0m\u001b[1;33m)\u001b[0m\u001b[1;33m\u001b[0m\u001b[1;33m\u001b[0m\u001b[0m\n\u001b[0m\u001b[0;32m   2928\u001b[0m             \u001b[1;32mif\u001b[0m \u001b[0mis_integer\u001b[0m\u001b[1;33m(\u001b[0m\u001b[0mindexer\u001b[0m\u001b[1;33m)\u001b[0m\u001b[1;33m:\u001b[0m\u001b[1;33m\u001b[0m\u001b[1;33m\u001b[0m\u001b[0m\n\u001b[0;32m   2929\u001b[0m                 \u001b[0mindexer\u001b[0m \u001b[1;33m=\u001b[0m \u001b[1;33m[\u001b[0m\u001b[0mindexer\u001b[0m\u001b[1;33m]\u001b[0m\u001b[1;33m\u001b[0m\u001b[1;33m\u001b[0m\u001b[0m\n",
      "\u001b[1;32m~\\Anaconda3\\lib\\site-packages\\pandas\\core\\indexes\\base.py\u001b[0m in \u001b[0;36mget_loc\u001b[1;34m(self, key, method, tolerance)\u001b[0m\n\u001b[0;32m   2657\u001b[0m                 \u001b[1;32mreturn\u001b[0m \u001b[0mself\u001b[0m\u001b[1;33m.\u001b[0m\u001b[0m_engine\u001b[0m\u001b[1;33m.\u001b[0m\u001b[0mget_loc\u001b[0m\u001b[1;33m(\u001b[0m\u001b[0mkey\u001b[0m\u001b[1;33m)\u001b[0m\u001b[1;33m\u001b[0m\u001b[1;33m\u001b[0m\u001b[0m\n\u001b[0;32m   2658\u001b[0m             \u001b[1;32mexcept\u001b[0m \u001b[0mKeyError\u001b[0m\u001b[1;33m:\u001b[0m\u001b[1;33m\u001b[0m\u001b[1;33m\u001b[0m\u001b[0m\n\u001b[1;32m-> 2659\u001b[1;33m                 \u001b[1;32mreturn\u001b[0m \u001b[0mself\u001b[0m\u001b[1;33m.\u001b[0m\u001b[0m_engine\u001b[0m\u001b[1;33m.\u001b[0m\u001b[0mget_loc\u001b[0m\u001b[1;33m(\u001b[0m\u001b[0mself\u001b[0m\u001b[1;33m.\u001b[0m\u001b[0m_maybe_cast_indexer\u001b[0m\u001b[1;33m(\u001b[0m\u001b[0mkey\u001b[0m\u001b[1;33m)\u001b[0m\u001b[1;33m)\u001b[0m\u001b[1;33m\u001b[0m\u001b[1;33m\u001b[0m\u001b[0m\n\u001b[0m\u001b[0;32m   2660\u001b[0m         \u001b[0mindexer\u001b[0m \u001b[1;33m=\u001b[0m \u001b[0mself\u001b[0m\u001b[1;33m.\u001b[0m\u001b[0mget_indexer\u001b[0m\u001b[1;33m(\u001b[0m\u001b[1;33m[\u001b[0m\u001b[0mkey\u001b[0m\u001b[1;33m]\u001b[0m\u001b[1;33m,\u001b[0m \u001b[0mmethod\u001b[0m\u001b[1;33m=\u001b[0m\u001b[0mmethod\u001b[0m\u001b[1;33m,\u001b[0m \u001b[0mtolerance\u001b[0m\u001b[1;33m=\u001b[0m\u001b[0mtolerance\u001b[0m\u001b[1;33m)\u001b[0m\u001b[1;33m\u001b[0m\u001b[1;33m\u001b[0m\u001b[0m\n\u001b[0;32m   2661\u001b[0m         \u001b[1;32mif\u001b[0m \u001b[0mindexer\u001b[0m\u001b[1;33m.\u001b[0m\u001b[0mndim\u001b[0m \u001b[1;33m>\u001b[0m \u001b[1;36m1\u001b[0m \u001b[1;32mor\u001b[0m \u001b[0mindexer\u001b[0m\u001b[1;33m.\u001b[0m\u001b[0msize\u001b[0m \u001b[1;33m>\u001b[0m \u001b[1;36m1\u001b[0m\u001b[1;33m:\u001b[0m\u001b[1;33m\u001b[0m\u001b[1;33m\u001b[0m\u001b[0m\n",
      "\u001b[1;32mpandas/_libs/index.pyx\u001b[0m in \u001b[0;36mpandas._libs.index.IndexEngine.get_loc\u001b[1;34m()\u001b[0m\n",
      "\u001b[1;32mpandas/_libs/index.pyx\u001b[0m in \u001b[0;36mpandas._libs.index.IndexEngine.get_loc\u001b[1;34m()\u001b[0m\n",
      "\u001b[1;32mpandas/_libs/index.pyx\u001b[0m in \u001b[0;36mpandas._libs.index.IndexEngine._get_loc_duplicates\u001b[1;34m()\u001b[0m\n",
      "\u001b[1;32mpandas/_libs/index.pyx\u001b[0m in \u001b[0;36mpandas._libs.index.IndexEngine._maybe_get_bool_indexer\u001b[1;34m()\u001b[0m\n",
      "\u001b[1;31mKeyError\u001b[0m: nan"
     ]
    }
   ],
   "source": [
    "fill_na_id[:] = fill_na_id_imputer"
   ]
  },
  {
   "cell_type": "code",
   "execution_count": null,
   "metadata": {},
   "outputs": [],
   "source": [
    "fill_na_id.columns"
   ]
  },
  {
   "cell_type": "code",
   "execution_count": null,
   "metadata": {},
   "outputs": [],
   "source": [
    "#Round values WEALTH1, WEALTH2, AGE, INCOME, DOMAIN_ECO, DOMAIN_LVL, DOMAIN to not have float.\n",
    "\n",
    "fill_na_id[['WEALTH1', 'WEALTH2', 'AGE', 'INCOME', 'DOMAIN_ECO']] = fill_na_id[['WEALTH1', \n",
    "                                                                                'WEALTH2', \n",
    "                                                                                'AGE', \n",
    "                                                                                'INCOME', \n",
    "                                                                                'DOMAIN_ECO']].round()"
   ]
  },
  {
   "cell_type": "code",
   "execution_count": null,
   "metadata": {},
   "outputs": [],
   "source": [
    "#Replace Variables, without Domain because the best way to use categorical + ordinal feature is leave the Nan values.\n",
    "na_columns = ['AGE', 'WEALTH1', 'WEALTH2', 'INCOME']\n",
    "donors_id_r1[na_columns] = fill_na_id[na_columns]"
   ]
  },
  {
   "cell_type": "code",
   "execution_count": null,
   "metadata": {},
   "outputs": [],
   "source": [
    "#Discretizing the Age feature:\n",
    "labels = [\"Child\", \"Teenager\", \"Adult\", \"Senior\"]\n",
    "bins = pd.IntervalIndex.from_tuples([(0, 12), (12, 19), (19, 59), (59, 200)])\n",
    "donors_id_r1['AGE_Group'] = pd.cut(donors_id_r1['AGE'], bins = bins).map(dict(zip(bins, labels)))"
   ]
  },
  {
   "cell_type": "code",
   "execution_count": null,
   "metadata": {},
   "outputs": [],
   "source": [
    "#Filling NaN values from DOMAIN to One Hot Encode\n",
    "donors_id_r1[['DOMAIN','DOMAIN_LVL','DOMAIN_ECO']] = donors_id_r1[['DOMAIN','DOMAIN_LVL','DOMAIN_ECO']].fillna('')"
   ]
  },
  {
   "cell_type": "code",
   "execution_count": null,
   "metadata": {},
   "outputs": [],
   "source": [
    "nonmetric_features = donors_id_r1.dtypes[(donors_id_r1.dtypes == 'object') | (donors_id_r1.dtypes == 'category')].index.to_list()"
   ]
  },
  {
   "cell_type": "code",
   "execution_count": null,
   "metadata": {},
   "outputs": [],
   "source": [
    "metric_features = donors_id_r1.dtypes[(donors_id_r1.dtypes != 'object') & (donors_id_r1.dtypes != 'category')].index.to_list()"
   ]
  },
  {
   "cell_type": "code",
   "execution_count": null,
   "metadata": {},
   "outputs": [],
   "source": [
    "train_data_standard_ohe = donors_id_r1.copy()\n",
    "ohc = OneHotEncoder(sparse=False, drop = 'if_binary')\n",
    "ohc_feat = ohc.fit_transform(train_data_standard_ohe[nonmetric_features])\n",
    "ohc_feat_names = ohc.get_feature_names()\n",
    "ohc_df = pd.DataFrame(ohc_feat, index=train_data_standard_ohe[nonmetric_features].index, columns=ohc_feat_names)  # Why the index=df_ohc.index?\n",
    "ohc_df\n"
   ]
  },
  {
   "cell_type": "code",
   "execution_count": null,
   "metadata": {},
   "outputs": [],
   "source": [
    "donors_cluster = pd.concat([donors_id_r1[metric_features],\n",
    "                            ohc_df],\n",
    "                           axis = 1) "
   ]
  },
  {
   "cell_type": "code",
   "execution_count": null,
   "metadata": {},
   "outputs": [],
   "source": [
    "donors_cluster.head()"
   ]
  },
  {
   "cell_type": "code",
   "execution_count": null,
   "metadata": {},
   "outputs": [],
   "source": [
    "import matplotlib.pyplot as plt\n",
    "from sklearn.datasets import make_blobs\n",
    "from sklearn.cluster import KMeans\n",
    "from sklearn.metrics import silhouette_score\n",
    "from sklearn.preprocessing import StandardScaler"
   ]
  },
  {
   "cell_type": "code",
   "execution_count": null,
   "metadata": {},
   "outputs": [],
   "source": [
    "kmeans = KMeans(init='k-means++', n_clusters=8, n_init=10, max_iter=300)"
   ]
  },
  {
   "cell_type": "code",
   "execution_count": null,
   "metadata": {},
   "outputs": [],
   "source": [
    "kmeans.fit(donors_cluster)"
   ]
  },
  {
   "cell_type": "code",
   "execution_count": null,
   "metadata": {},
   "outputs": [],
   "source": [
    "kmeans.n_iter_"
   ]
  },
  {
   "cell_type": "code",
   "execution_count": null,
   "metadata": {},
   "outputs": [],
   "source": [
    "donors_cluster['Cluster'] = kmeans.labels_"
   ]
  },
  {
   "cell_type": "code",
   "execution_count": null,
   "metadata": {},
   "outputs": [],
   "source": [
    "donors_cluster.groupby(['Cluster']).agg(['mean'])"
   ]
  },
  {
   "cell_type": "code",
   "execution_count": null,
   "metadata": {},
   "outputs": [],
   "source": []
  },
  {
   "cell_type": "code",
   "execution_count": null,
   "metadata": {},
   "outputs": [],
   "source": [
    "donors_census = donors.loc[:,'POP901':'AC2']"
   ]
  },
  {
   "cell_type": "code",
   "execution_count": null,
   "metadata": {},
   "outputs": [],
   "source": [
    "nan_count_census = donors_census.isnull().sum().sort_values(ascending = False)"
   ]
  },
  {
   "cell_type": "code",
   "execution_count": null,
   "metadata": {},
   "outputs": [],
   "source": [
    "nan_count_census = nan_count_census[nan_count_census != 0]\n",
    "nan_count_census"
   ]
  },
  {
   "cell_type": "code",
   "execution_count": null,
   "metadata": {},
   "outputs": [],
   "source": [
    "donors_census['DMA'].value_counts()"
   ]
  },
  {
   "cell_type": "code",
   "execution_count": null,
   "metadata": {},
   "outputs": [],
   "source": [
    "donors_census['ADI']"
   ]
  },
  {
   "cell_type": "code",
   "execution_count": null,
   "metadata": {},
   "outputs": [],
   "source": []
  },
  {
   "cell_type": "code",
   "execution_count": null,
   "metadata": {},
   "outputs": [],
   "source": [
    "donors_promotion = donors.loc[:,'ADATE_2':'GEOCODE2']"
   ]
  },
  {
   "cell_type": "code",
   "execution_count": null,
   "metadata": {},
   "outputs": [],
   "source": [
    "nan_count_promotion = donors_promotion.isnull().sum().sort_values(ascending = False)"
   ]
  },
  {
   "cell_type": "code",
   "execution_count": null,
   "metadata": {},
   "outputs": [],
   "source": [
    "nan_count_promotion = nan_count_promotion[nan_count_promotion != 0]\n",
    "nan_count_promotion"
   ]
  },
  {
   "cell_type": "code",
   "execution_count": null,
   "metadata": {},
   "outputs": [],
   "source": [
    "RDATE = nan_count_promotion[nan_count_promotion.index.str.contains(\"RDATE_\")].index\n",
    "RAMNT = nan_count_promotion[nan_count_promotion.index.str.contains(\"RAMNT_\")].index\n",
    "ADATE = nan_count_promotion[nan_count_promotion.index.str.contains(\"ADATE_\")].index\n",
    "nan_count_promotion = nan_count_promotion.drop(labels = RDATE)\n",
    "nan_count_promotion = nan_count_promotion.drop(labels = RAMNT)\n",
    "nan_count_promotion = nan_count_promotion.drop(labels = ADATE)"
   ]
  },
  {
   "cell_type": "code",
   "execution_count": null,
   "metadata": {},
   "outputs": [],
   "source": [
    "nan_count_promotion"
   ]
  },
  {
   "cell_type": "code",
   "execution_count": null,
   "metadata": {},
   "outputs": [],
   "source": [
    "donors_promotion[donors_promotion['TIMELAG'].isnull()]['NGIFTALL'].unique()"
   ]
  },
  {
   "cell_type": "code",
   "execution_count": null,
   "metadata": {},
   "outputs": [],
   "source": [
    "donors_promotion[donors_promotion['FISTDATE'].isnull()]['NGIFTALL']"
   ]
  },
  {
   "cell_type": "code",
   "execution_count": null,
   "metadata": {},
   "outputs": [],
   "source": []
  }
 ],
 "metadata": {
  "kernelspec": {
   "display_name": "Python 3",
   "language": "python",
   "name": "python3"
  },
  "language_info": {
   "codemirror_mode": {
    "name": "ipython",
    "version": 3
   },
   "file_extension": ".py",
   "mimetype": "text/x-python",
   "name": "python",
   "nbconvert_exporter": "python",
   "pygments_lexer": "ipython3",
   "version": "3.7.3"
  }
 },
 "nbformat": 4,
 "nbformat_minor": 2
}
